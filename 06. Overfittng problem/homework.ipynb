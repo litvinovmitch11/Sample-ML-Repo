{
 "cells": [
  {
   "cell_type": "markdown",
   "metadata": {
    "id": "ymo3txVFu5qB"
   },
   "source": [
    "### (0 баллов) Считываем данные"
   ]
  },
  {
   "cell_type": "code",
   "execution_count": 1,
   "metadata": {
    "id": "Yb2QHE2Su5qE"
   },
   "outputs": [],
   "source": [
    "import numpy as np\n",
    "import pandas as pd\n",
    "from matplotlib import pyplot as plt\n",
    "%matplotlib inline"
   ]
  },
  {
   "cell_type": "code",
   "execution_count": 2,
   "metadata": {
    "id": "FMxbEARwu5qN",
    "outputId": "5a47a944-b871-48e7-beda-ea4a7a371c77",
    "scrolled": true
   },
   "outputs": [
    {
     "data": {
      "text/plain": [
       "dict_keys(['data', 'target', 'feature_names', 'DESCR', 'filename'])"
      ]
     },
     "execution_count": 2,
     "metadata": {},
     "output_type": "execute_result"
    }
   ],
   "source": [
    "from sklearn.datasets import load_boston\n",
    "\n",
    "dataset = load_boston()\n",
    "dataset.keys()"
   ]
  },
  {
   "cell_type": "markdown",
   "metadata": {
    "id": "TsknjFrGu5qd"
   },
   "source": [
    "Каждая квартира имеет 13 признаков:"
   ]
  },
  {
   "cell_type": "code",
   "execution_count": 3,
   "metadata": {
    "id": "7MxiIMnqu5qg",
    "outputId": "e30a18d0-eff2-4f12-ae4f-1ace9dac6faf"
   },
   "outputs": [
    {
     "data": {
      "text/plain": [
       "array([[6.3200e-03, 1.8000e+01, 2.3100e+00, 0.0000e+00, 5.3800e-01,\n",
       "        6.5750e+00, 6.5200e+01, 4.0900e+00, 1.0000e+00, 2.9600e+02,\n",
       "        1.5300e+01, 3.9690e+02, 4.9800e+00],\n",
       "       [2.7310e-02, 0.0000e+00, 7.0700e+00, 0.0000e+00, 4.6900e-01,\n",
       "        6.4210e+00, 7.8900e+01, 4.9671e+00, 2.0000e+00, 2.4200e+02,\n",
       "        1.7800e+01, 3.9690e+02, 9.1400e+00],\n",
       "       [2.7290e-02, 0.0000e+00, 7.0700e+00, 0.0000e+00, 4.6900e-01,\n",
       "        7.1850e+00, 6.1100e+01, 4.9671e+00, 2.0000e+00, 2.4200e+02,\n",
       "        1.7800e+01, 3.9283e+02, 4.0300e+00],\n",
       "       [3.2370e-02, 0.0000e+00, 2.1800e+00, 0.0000e+00, 4.5800e-01,\n",
       "        6.9980e+00, 4.5800e+01, 6.0622e+00, 3.0000e+00, 2.2200e+02,\n",
       "        1.8700e+01, 3.9463e+02, 2.9400e+00],\n",
       "       [6.9050e-02, 0.0000e+00, 2.1800e+00, 0.0000e+00, 4.5800e-01,\n",
       "        7.1470e+00, 5.4200e+01, 6.0622e+00, 3.0000e+00, 2.2200e+02,\n",
       "        1.8700e+01, 3.9690e+02, 5.3300e+00],\n",
       "       [2.9850e-02, 0.0000e+00, 2.1800e+00, 0.0000e+00, 4.5800e-01,\n",
       "        6.4300e+00, 5.8700e+01, 6.0622e+00, 3.0000e+00, 2.2200e+02,\n",
       "        1.8700e+01, 3.9412e+02, 5.2100e+00],\n",
       "       [8.8290e-02, 1.2500e+01, 7.8700e+00, 0.0000e+00, 5.2400e-01,\n",
       "        6.0120e+00, 6.6600e+01, 5.5605e+00, 5.0000e+00, 3.1100e+02,\n",
       "        1.5200e+01, 3.9560e+02, 1.2430e+01],\n",
       "       [1.4455e-01, 1.2500e+01, 7.8700e+00, 0.0000e+00, 5.2400e-01,\n",
       "        6.1720e+00, 9.6100e+01, 5.9505e+00, 5.0000e+00, 3.1100e+02,\n",
       "        1.5200e+01, 3.9690e+02, 1.9150e+01],\n",
       "       [2.1124e-01, 1.2500e+01, 7.8700e+00, 0.0000e+00, 5.2400e-01,\n",
       "        5.6310e+00, 1.0000e+02, 6.0821e+00, 5.0000e+00, 3.1100e+02,\n",
       "        1.5200e+01, 3.8663e+02, 2.9930e+01],\n",
       "       [1.7004e-01, 1.2500e+01, 7.8700e+00, 0.0000e+00, 5.2400e-01,\n",
       "        6.0040e+00, 8.5900e+01, 6.5921e+00, 5.0000e+00, 3.1100e+02,\n",
       "        1.5200e+01, 3.8671e+02, 1.7100e+01]])"
      ]
     },
     "execution_count": 3,
     "metadata": {},
     "output_type": "execute_result"
    }
   ],
   "source": [
    "X = dataset['data']\n",
    "X[:10]"
   ]
  },
  {
   "cell_type": "code",
   "execution_count": 4,
   "metadata": {
    "id": "75Jufw6Ru5qn",
    "outputId": "65d010cc-56c8-4328-a83e-d7f7208abf64"
   },
   "outputs": [
    {
     "data": {
      "text/plain": [
       "array(['CRIM', 'ZN', 'INDUS', 'CHAS', 'NOX', 'RM', 'AGE', 'DIS', 'RAD',\n",
       "       'TAX', 'PTRATIO', 'B', 'LSTAT'], dtype='<U7')"
      ]
     },
     "execution_count": 4,
     "metadata": {},
     "output_type": "execute_result"
    }
   ],
   "source": [
    "dataset['feature_names']"
   ]
  },
  {
   "cell_type": "code",
   "execution_count": 5,
   "metadata": {
    "id": "LkrWnw3nu5qu",
    "outputId": "486ef43f-f39e-44a7-f6c9-09377ba2e530"
   },
   "outputs": [
    {
     "name": "stdout",
     "output_type": "stream",
     "text": [
      ".. _boston_dataset:\n",
      "\n",
      "Boston house prices dataset\n",
      "---------------------------\n",
      "\n",
      "**Data Set Characteristics:**  \n",
      "\n",
      "    :Number of Instances: 506 \n",
      "\n",
      "    :Number of Attributes: 13 numeric/categorical predictive. Median Value (attribute 14) is usually the target.\n",
      "\n",
      "    :Attribute Information (in order):\n",
      "        - CRIM     per capita crime rate by town\n",
      "        - ZN       proportion of residential land zoned for lots over 25,000 sq.ft.\n",
      "        - INDUS    proportion of non-retail business acres per town\n",
      "        - CHAS     Charles River dummy variable (= 1 if tract bounds river; 0 otherwise)\n",
      "        - NOX      nitric oxides concentration (parts per 10 million)\n",
      "        - RM       average number of rooms per dwelling\n",
      "        - AGE      proportion of owner-occupied units built prior to 1940\n",
      "        - DIS      weighted distances to five Boston employment centres\n",
      "        - RAD      index of accessibility to radial highways\n",
      "        - TAX      full-value property-tax rate per $10,000\n",
      "        - PTRATIO  pupil-teacher ratio by town\n",
      "        - B        1000(Bk - 0.63)^2 where Bk is the proportion of blacks by town\n",
      "        - LSTAT    % lower status of the population\n",
      "        - MEDV     Median value of owner-occupied homes in $1000's\n",
      "\n",
      "    :Missing Attribute Values: None\n",
      "\n",
      "    :Creator: Harrison, D. and Rubinfeld, D.L.\n",
      "\n",
      "This is a copy of UCI ML housing dataset.\n",
      "https://archive.ics.uci.edu/ml/machine-learning-databases/housing/\n",
      "\n",
      "\n",
      "This dataset was taken from the StatLib library which is maintained at Carnegie Mellon University.\n",
      "\n",
      "The Boston house-price data of Harrison, D. and Rubinfeld, D.L. 'Hedonic\n",
      "prices and the demand for clean air', J. Environ. Economics & Management,\n",
      "vol.5, 81-102, 1978.   Used in Belsley, Kuh & Welsch, 'Regression diagnostics\n",
      "...', Wiley, 1980.   N.B. Various transformations are used in the table on\n",
      "pages 244-261 of the latter.\n",
      "\n",
      "The Boston house-price data has been used in many machine learning papers that address regression\n",
      "problems.   \n",
      "     \n",
      ".. topic:: References\n",
      "\n",
      "   - Belsley, Kuh & Welsch, 'Regression diagnostics: Identifying Influential Data and Sources of Collinearity', Wiley, 1980. 244-261.\n",
      "   - Quinlan,R. (1993). Combining Instance-Based and Model-Based Learning. In Proceedings on the Tenth International Conference of Machine Learning, 236-243, University of Massachusetts, Amherst. Morgan Kaufmann.\n",
      "\n"
     ]
    }
   ],
   "source": [
    "print(dataset['DESCR'])"
   ]
  },
  {
   "cell_type": "markdown",
   "metadata": {
    "id": "Jk3U9ixpu5q1"
   },
   "source": [
    "Хочется научиться предсказывать функцию цены квартиры. Предположительно, она зависит как-то от этих признаков."
   ]
  },
  {
   "cell_type": "code",
   "execution_count": 6,
   "metadata": {
    "id": "IiRlvgpRu5q3",
    "outputId": "4623f275-7a0a-41a2-a415-9214bee3cc05"
   },
   "outputs": [
    {
     "data": {
      "text/plain": [
       "array([24. , 21.6, 34.7, 33.4, 36.2, 28.7, 22.9, 27.1, 16.5, 18.9])"
      ]
     },
     "execution_count": 6,
     "metadata": {},
     "output_type": "execute_result"
    }
   ],
   "source": [
    "y = dataset['target']\n",
    "y[:10]"
   ]
  },
  {
   "cell_type": "markdown",
   "metadata": {
    "id": "ZOa7_r4Tu5q_"
   },
   "source": [
    "### (1 балл) Разделите данные на тренировочную и тестовую части.\n",
    "\n",
    "Тестовая часть должна составлять 10% выборки.\n"
   ]
  },
  {
   "cell_type": "code",
   "execution_count": 7,
   "metadata": {
    "id": "mgUs1nPIu5rA"
   },
   "outputs": [],
   "source": [
    "from sklearn.model_selection import train_test_split\n",
    "\n",
    "X_train, X_test, y_train, y_test = train_test_split(X, y, test_size=0.1, random_state=0)"
   ]
  },
  {
   "cell_type": "markdown",
   "metadata": {
    "id": "krV_juMIu5rE"
   },
   "source": [
    "### (1 балл) Обучение и применение модели\n",
    "Обучите модель линейной регрессии на тренировочной части и предскажите результаты на тестовой части.\n",
    "\n"
   ]
  },
  {
   "cell_type": "code",
   "execution_count": 8,
   "metadata": {
    "id": "2Jm32qLMu5rG"
   },
   "outputs": [
    {
     "data": {
      "text/plain": [
       "array([-1.14644795e-01,  3.62004052e-02,  6.53873262e-03,  2.19924733e+00,\n",
       "       -1.59109961e+01,  4.26798929e+00, -1.01602089e-02, -1.34698690e+00,\n",
       "        2.71154731e-01, -1.16326045e-02, -1.01714981e+00,  9.81293722e-03,\n",
       "       -4.43797298e-01])"
      ]
     },
     "execution_count": 8,
     "metadata": {},
     "output_type": "execute_result"
    }
   ],
   "source": [
    "from sklearn.linear_model import LinearRegression\n",
    "\n",
    "model = LinearRegression()\n",
    "model.fit(X_train, y_train)\n",
    "y_pred = model.predict(X_test)\n",
    "model.coef_"
   ]
  },
  {
   "cell_type": "markdown",
   "metadata": {
    "id": "XDeX09VWu5rQ"
   },
   "source": [
    "### (2 балл) Валидация результата\n",
    "\n",
    "Напишите свою функцию MSE, убедитесь, что она совпадает с реализацией из sklearn и посчитайте своей результат на тестовой части."
   ]
  },
  {
   "cell_type": "code",
   "execution_count": 9,
   "metadata": {
    "id": "HAES_JkYu5rR"
   },
   "outputs": [
    {
     "name": "stdout",
     "output_type": "stream",
     "text": [
      "MSE from sklearn:  41.72457625585785\n",
      "My MSE:  41.72457625585785\n"
     ]
    }
   ],
   "source": [
    "from sklearn.metrics import mean_squared_error\n",
    "def MSE(y_real, y_pred):\n",
    "    return sum((y_real - y_pred)**2)/len(y_real)\n",
    "\n",
    "print(\"MSE from sklearn: \", mean_squared_error(y_test, y_pred))\n",
    "print(\"My MSE: \", MSE(y_test, y_pred))"
   ]
  },
  {
   "cell_type": "markdown",
   "metadata": {
    "id": "eYQjX7TJu5rZ"
   },
   "source": [
    "Насколько хорошо вы предсказали цену? Сравните с наивным алгоритмом (предсказать среднюю цену на тренировочной части вне зависимости от признаков)."
   ]
  },
  {
   "cell_type": "code",
   "execution_count": 10,
   "metadata": {
    "id": "7tc7bt-ju5ra"
   },
   "outputs": [
    {
     "name": "stdout",
     "output_type": "stream",
     "text": [
      "Naive MSE:  87.46623274161735\n"
     ]
    }
   ],
   "source": [
    "naive_y = sum(y_train)/y_train.shape[0]\n",
    "print(\"Naive MSE: \", MSE(y_test, np.ones(y_test.shape[0])*naive_y))"
   ]
  },
  {
   "cell_type": "markdown",
   "metadata": {
    "id": "V0IP6MObu5rj"
   },
   "source": [
    "### (2 балла) Улучшите результат.\n",
    "\n",
    "Возможно, происходит переобучение, попробуйте применить регуляризацию, чтобы улучшить результат (то есть используйте Ridge вместо LinearRegression).\n",
    "\n",
    "Нарисуйте график зависимости MSE от коэффициента регуляризации."
   ]
  },
  {
   "cell_type": "code",
   "execution_count": 11,
   "metadata": {},
   "outputs": [],
   "source": [
    "from sklearn.preprocessing import StandardScaler\n",
    "from sklearn.pipeline import make_pipeline"
   ]
  },
  {
   "cell_type": "code",
   "execution_count": 12,
   "metadata": {
    "id": "j6_FJvpWu5rk"
   },
   "outputs": [
    {
     "name": "stdout",
     "output_type": "stream",
     "text": [
      "(0.0, 41.72457625585793)\n",
      "(0.2, 41.99392625803544)\n",
      "(0.4, 42.23028032457187)\n",
      "(0.6000000000000001, 42.43459666789694)\n",
      "(0.8, 42.61079992735451)\n",
      "(1.0, 42.763144601802516)\n",
      "(1.2000000000000002, 42.895448767844016)\n",
      "(1.4000000000000001, 43.01093348159109)\n",
      "(1.6, 43.112254585560294)\n",
      "(1.8, 43.201586096237065)\n",
      "(2.0, 43.2807075015259)\n",
      "(2.2, 43.35108033793666)\n",
      "(2.4000000000000004, 43.413911149402956)\n",
      "(2.6, 43.470201854581155)\n",
      "(2.8000000000000003, 43.520789597023615)\n",
      "\n",
      "Оптимальная lambda: \n",
      "Lambda=0.00, результат=41.72\n"
     ]
    }
   ],
   "source": [
    "from sklearn.linear_model import Ridge\n",
    "\n",
    "lambdas = np.arange(0, 3.0, 0.2)\n",
    "\n",
    "# Лямбды и их ошибки на тестовой выборке\n",
    "lambda_errors = []\n",
    "\n",
    "# Проходим по всем лямбдам и записываем ошибки на обучающей выборке\n",
    "for val in lambdas:\n",
    "    model = Ridge(alpha=val).fit(X_train, y_train)\n",
    "    y_pred = model.predict(X_test)\n",
    "    # Сохраняем ошибку на тестовой выборке\n",
    "    lambda_errors.append((val, MSE(y_test, y_pred)))\n",
    "    print((val, MSE(y_test, y_pred)))      \n",
    "\n",
    "min_val, min_test_error = min(lambda_errors, key=lambda x: x[1])\n",
    "\n",
    "# Лучшая модель\n",
    "best_reg = Ridge(alpha=min_val)\n",
    "\n",
    "best_reg.fit(X_train, y_train)\n",
    "y_pred = best_reg.predict(X_test)\n",
    "error = MSE(y_test, y_pred)\n",
    "\n",
    "print(\"\\nОптимальная lambda: \")\n",
    "print(\"Lambda={:.2f}, результат={:.2f}\".format(min_val, error))"
   ]
  },
  {
   "cell_type": "code",
   "execution_count": 13,
   "metadata": {},
   "outputs": [
    {
     "data": {
      "image/png": "[encoded data removed]",
      "text/plain": [
       "<Figure size 432x288 with 1 Axes>"
      ]
     },
     "metadata": {
      "needs_background": "light"
     },
     "output_type": "display_data"
    }
   ],
   "source": [
    "# Ошибка минимальна при lambda = 0.00\n",
    "plt.scatter(lambdas, np.array(lambda_errors)[::, 1])\n",
    "plt.show()"
   ]
  },
  {
   "cell_type": "markdown",
   "metadata": {
    "id": "EXvkpimau5rn"
   },
   "source": [
    "Помогает ли регуляризация? Какой коэффициент регуляризации надо выбрать, чтобы ошибка была минимальной? Чему при этом равна ошибка? Напишите выводы о проведенных экспериментах"
   ]
  },
  {
   "cell_type": "markdown",
   "metadata": {
    "id": "EkiNXk1Qu5rp"
   },
   "source": [
    "Регуляризация не помогла улучшить результат... Оптимальная lambda 0.0, результат=41.72. Регуляризация нужна для того, чтобы уменьшить веса, но у нашей модели и так небольшие веса... Видимо в этом проблема"
   ]
  },
  {
   "cell_type": "code",
   "execution_count": 14,
   "metadata": {},
   "outputs": [
    {
     "name": "stdout",
     "output_type": "stream",
     "text": [
      "(0.1, 45.23817221620139)\n",
      "(0.30000000000000004, 44.63160376478048)\n",
      "(0.5000000000000001, 43.884033428529904)\n",
      "(0.7000000000000001, 43.65859734496311)\n",
      "(0.9000000000000001, 43.60736307721599)\n",
      "(1.1000000000000003, 43.8322864703614)\n",
      "(1.3000000000000003, 44.34935573697127)\n",
      "(1.5000000000000004, 45.02820767131893)\n",
      "(1.7000000000000004, 45.64915214418605)\n",
      "(1.9000000000000004, 46.33483662489416)\n",
      "(2.1000000000000005, 46.98281841193122)\n",
      "(2.3000000000000007, 47.222011934703836)\n",
      "(2.5000000000000004, 47.41139333160755)\n",
      "(2.7000000000000006, 47.59411226095846)\n",
      "(2.900000000000001, 47.79732516042525)\n",
      "\n",
      "Оптимальная lambda: \n",
      "Lambda=0.90, результат=43.61\n"
     ]
    }
   ],
   "source": [
    "from sklearn.linear_model import Lasso\n",
    "\n",
    "lambdas = np.arange(0.1, 3.0, 0.2)\n",
    "\n",
    "# Лямбды и их ошибки на тестовой выборке\n",
    "lambda_errors = []\n",
    "\n",
    "# Проходим по всем лямбдам и записываем ошибки на обучающей выборке\n",
    "for val in lambdas:\n",
    "    model = Lasso(alpha=val).fit(X_train, y_train)\n",
    "    y_pred = model.predict(X_test)\n",
    "    # Сохраняем ошибку на тестовой выборке\n",
    "    lambda_errors.append((val, MSE(y_test, y_pred)))\n",
    "    print((val, MSE(y_test, y_pred)))    \n",
    "\n",
    "min_val, min_test_error = min(lambda_errors, key=lambda x: x[1])\n",
    "\n",
    "# Лучшая модель\n",
    "best_reg = Lasso(alpha=min_val)\n",
    "\n",
    "best_reg.fit(X_train, y_train)\n",
    "y_pred = best_reg.predict(X_test)\n",
    "error = MSE(y_test, y_pred)\n",
    "\n",
    "print(\"\\nОптимальная lambda: \")\n",
    "print(\"Lambda={:.2f}, результат={:.2f}\".format(min_val, error))"
   ]
  },
  {
   "cell_type": "code",
   "execution_count": 15,
   "metadata": {},
   "outputs": [
    {
     "data": {
      "image/png": "[encoded data removed]",
      "text/plain": [
       "<Figure size 432x288 with 1 Axes>"
      ]
     },
     "metadata": {
      "needs_background": "light"
     },
     "output_type": "display_data"
    }
   ],
   "source": [
    "# Ошибка минимальна при lambda = 0.90\n",
    "plt.scatter(lambdas, np.array(lambda_errors)[::, 1])\n",
    "plt.show()"
   ]
  },
  {
   "cell_type": "markdown",
   "metadata": {},
   "source": [
    "L-1 регуляризация также не помогла найти решение лучше. При Lasso с коэффициентом 0.9 результат равен 43.61"
   ]
  }
 ],
 "metadata": {
  "colab": {
   "collapsed_sections": [],
   "name": "Tinkoff_Generation_3_linear_regression_HW",
   "provenance": []
  },
  "kernelspec": {
   "display_name": "Python 3",
   "language": "python",
   "name": "python3"
  },
  "language_info": {
   "codemirror_mode": {
    "name": "ipython",
    "version": 3
   },
   "file_extension": ".py",
   "mimetype": "text/x-python",
   "name": "python",
   "nbconvert_exporter": "python",
   "pygments_lexer": "ipython3",
   "version": "3.8.5"
  }
 },
 "nbformat": 4,
 "nbformat_minor": 1
}
